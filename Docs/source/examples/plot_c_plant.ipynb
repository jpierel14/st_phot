{
  "cells": [
    {
      "cell_type": "code",
      "execution_count": null,
      "metadata": {
        "collapsed": false
      },
      "outputs": [],
      "source": [
        "%matplotlib inline"
      ]
    },
    {
      "cell_type": "markdown",
      "metadata": {},
      "source": [
        "\n# Planting PSFs\nPlanting a PSF with st_phot.\n"
      ]
    },
    {
      "cell_type": "markdown",
      "metadata": {},
      "source": [
        "An example JWST Dataset is downloaded, and then we plant a \npsf. This is public HST data for the\ngravitationally lensed SN 2022riv\n\n"
      ]
    },
    {
      "cell_type": "code",
      "execution_count": null,
      "metadata": {
        "collapsed": false
      },
      "outputs": [],
      "source": [
        "import sys,os,glob\nfrom astropy.io import fits\nfrom astropy.table import Table\nfrom astropy.nddata import extract_array\nfrom astropy.coordinates import SkyCoord\nfrom astropy import wcs\nfrom astropy.wcs.utils import skycoord_to_pixel\nfrom astropy import units as u\nimport numpy as np\nimport matplotlib.pyplot as plt\nfrom astroquery.mast import Observations\nfrom astropy.visualization import (simple_norm,LinearStretch)\n\nimport st_phot"
      ]
    },
    {
      "cell_type": "markdown",
      "metadata": {},
      "source": [
        "**Download some Data**\n\nFor this example we download JWST cal images from MAST. We just use\n1 of the 8 dithered exposures for speed here.\n\n"
      ]
    },
    {
      "cell_type": "code",
      "execution_count": null,
      "metadata": {
        "collapsed": false
      },
      "outputs": [],
      "source": [
        "obs_table = Observations.query_criteria(obs_id='jw02767-o002_t001_nircam_clear-f150w')\ndata_products_by_obs = Observations.get_product_list(obs_table)\ndata_products_by_obs = data_products_by_obs[data_products_by_obs['obs_id']=='jw02767002001_02103_00001_nrcb3']\ndata_products_by_obs = data_products_by_obs[data_products_by_obs['calib_level']==2]\ndata_products_by_obs = data_products_by_obs[data_products_by_obs['productSubGroupDescription']=='CAL']\nObservations.download_products(data_products_by_obs,extension='fits')"
      ]
    },
    {
      "cell_type": "markdown",
      "metadata": {},
      "source": [
        "**Get the PSF model**\n\nst_phot uses WebbPSF models for JWST. This can be pretty slow, \nso you don't want to run this every time. Either create your\nown repository of these and pass each one when needed directly to\nthe psf_photometry function, or else at least just do this once,\nsave the ouptut, and then read it in and proceed to photometry\nfor testing purposes.\n\n"
      ]
    },
    {
      "cell_type": "code",
      "execution_count": null,
      "metadata": {
        "collapsed": false
      },
      "outputs": [],
      "source": [
        "files = glob.glob('mastDownload/JWST/jw02767002001_02103_00001_nrcb3/*cal.fits')\nprint(files)\nplant_location = SkyCoord('21:29:42.4275','+0:04:53.634',unit=(u.hourangle,u.deg))\njwst_obs = st_phot.observation(files)\npsfs = st_phot.get_jwst_psf(jwst_obs,plant_location,num_psfs=4,psf_width=9)\nplt.imshow(psfs[0].data)\nplt.show()"
      ]
    },
    {
      "cell_type": "markdown",
      "metadata": {},
      "source": [
        "**Examine the first Image**\n\nYou can see we've chosen a region of the image with no sources.\n\n"
      ]
    },
    {
      "cell_type": "code",
      "execution_count": null,
      "metadata": {
        "collapsed": false
      },
      "outputs": [],
      "source": [
        "plant_image = files[0]\nplant_fits = fits.open(plant_image)\nplant_data = fits.open(plant_image)['SCI',1].data\n\nplant_y,plant_x = skycoord_to_pixel(plant_location,wcs.WCS(plant_fits['SCI',1],plant_fits))\nplant_cutout = extract_array(plant_data,(9,9),(plant_x,plant_y))\nplt.imshow(plant_cutout, origin='lower')\n\nplt.gca().tick_params(labelcolor='none',axis='both',color='none')\nplt.show()"
      ]
    },
    {
      "cell_type": "markdown",
      "metadata": {},
      "source": [
        "**Plant the PSF**\n\n\n"
      ]
    },
    {
      "cell_type": "code",
      "execution_count": null,
      "metadata": {
        "collapsed": false
      },
      "outputs": [],
      "source": [
        "jwst_obs.plant_psf(psfs[0],[[plant_x,plant_y]],26)\nplanted_image = plant_image.replace('.fits','_plant.fits')\nplanted_data = fits.open(planted_image)['SCI',1].data\nplanted_cutout = extract_array(planted_data,(9,9),(plant_x,plant_y))\n\nfig,axes = plt.subplots(1,2)\naxes[0].imshow(plant_cutout, origin='lower')\naxes[0].set_title('Pre-Plant')\naxes[1].imshow(planted_cutout, origin='lower')\naxes[1].set_title('Post-Plant')\n\nfor i in range(2):\n    axes[i].tick_params(labelcolor='none',axis='both',color='none')\nplt.show()"
      ]
    },
    {
      "cell_type": "markdown",
      "metadata": {},
      "source": [
        "**Measure PSF photometry and Aperture photometry for the source**\n\n\n"
      ]
    },
    {
      "cell_type": "code",
      "execution_count": null,
      "metadata": {
        "collapsed": false
      },
      "outputs": [],
      "source": [
        "jwst_obs = st_phot.observation(glob.glob('mastDownload/JWST/jw02767002001_02103_00001_nrcb3/*plant.fits')\n)\n\njwst_obs.psf_photometry(psfs,plant_location,bounds={'flux':[-3000,100],\n                        'centroid':[-1,1],\n                        'bkg':[0,50]},\n                        fit_width=5,\n                        fit_bkg=True,\n                        fit_flux='single')\njwst_obs.plot_psf_fit()\nplt.show()\n\njwst_obs.plot_psf_posterior(minweight=.0005)\nplt.show()\n\nprint('PSF Mag:',jwst_obs.psf_result.phot_cal_table['mag'])\n\njwst_obs.aperture_photometry(plant_location,encircled_energy='70')\nprint('Aperture Mag:',jwst_obs.aperture_result.phot_cal_table['mag'])"
      ]
    }
  ],
  "metadata": {
    "kernelspec": {
      "display_name": "Python 3",
      "language": "python",
      "name": "python3"
    },
    "language_info": {
      "codemirror_mode": {
        "name": "ipython",
        "version": 3
      },
      "file_extension": ".py",
      "mimetype": "text/x-python",
      "name": "python",
      "nbconvert_exporter": "python",
      "pygments_lexer": "ipython3",
      "version": "3.10.4"
    }
  },
  "nbformat": 4,
  "nbformat_minor": 0
}