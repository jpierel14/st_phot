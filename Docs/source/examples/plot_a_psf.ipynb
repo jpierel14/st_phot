{
  "cells": [
    {
      "cell_type": "code",
      "execution_count": null,
      "metadata": {
        "collapsed": false
      },
      "outputs": [],
      "source": [
        "%matplotlib inline"
      ]
    },
    {
      "cell_type": "markdown",
      "metadata": {},
      "source": [
        "\n# PSF Photometry\nMeasuring PSF Photometry with space_phot.\n"
      ]
    },
    {
      "cell_type": "markdown",
      "metadata": {},
      "source": [
        "An example HST Dataset is downloaded, and then we measure \npsf photometry. This is public HST data for the\ngravitationally lensed SN 2022riv\n\n"
      ]
    },
    {
      "cell_type": "code",
      "execution_count": null,
      "metadata": {
        "collapsed": false
      },
      "outputs": [],
      "source": [
        "import sys,os,glob\nfrom astropy.io import fits\nfrom astropy.table import Table\nfrom astropy.nddata import extract_array\nfrom astropy.coordinates import SkyCoord\nfrom astropy import wcs\nfrom astropy.wcs.utils import skycoord_to_pixel\nfrom astropy import units as u\nimport numpy as np\nimport matplotlib.pyplot as plt\nfrom astroquery.mast import Observations\nfrom astropy.visualization import (simple_norm,LinearStretch)\n\nimport space_phot"
      ]
    },
    {
      "cell_type": "markdown",
      "metadata": {},
      "source": [
        "## HST Images\n\n**Download some Data**\n\nFor this example we download HST FLT images from MAST.  \n\n"
      ]
    },
    {
      "cell_type": "code",
      "execution_count": null,
      "metadata": {
        "collapsed": false
      },
      "outputs": [],
      "source": [
        "obs_table = Observations.query_criteria(obs_id='hst_16264_12_wfc3_ir_f110w_iebc12')\nobs_table1 = obs_table[obs_table['filters']=='F110W']\n\ndata_products_by_obs = Observations.get_product_list(obs_table1)\ndata_products_by_obs = data_products_by_obs[data_products_by_obs['calib_level']==2]\ndata_products_by_obs = data_products_by_obs[data_products_by_obs['productSubGroupDescription']=='FLT'][:3]\nObservations.download_products(data_products_by_obs,extension='fits')"
      ]
    },
    {
      "cell_type": "markdown",
      "metadata": {},
      "source": [
        "**Examine the first Image**\n\n\n"
      ]
    },
    {
      "cell_type": "code",
      "execution_count": null,
      "metadata": {
        "collapsed": false
      },
      "outputs": [],
      "source": [
        "files = glob.glob('mastDownload/HST/*/*flt.fits')\nref_image = files[0]\nref_fits = fits.open(ref_image)\nref_data = fits.open(ref_image)['SCI',1].data\nnorm1 = simple_norm(ref_data,stretch='linear',min_cut=-1,max_cut=10)\n\nplt.imshow(ref_data, origin='lower',\n                      norm=norm1,cmap='gray')\nplt.gca().tick_params(labelcolor='none',axis='both',color='none')\nplt.show()"
      ]
    },
    {
      "cell_type": "markdown",
      "metadata": {},
      "source": [
        "**Zoom in to see the Supernova**\n\n\n"
      ]
    },
    {
      "cell_type": "code",
      "execution_count": null,
      "metadata": {
        "collapsed": false
      },
      "outputs": [],
      "source": [
        "sn_location = SkyCoord('21:29:40.2110','+0:05:24.154',unit=(u.hourangle,u.deg))\nref_y,ref_x = skycoord_to_pixel(sn_location,wcs.WCS(ref_fits['SCI',1],ref_fits))\nref_cutout = extract_array(ref_data,(11,11),(ref_x,ref_y))\nnorm1 = simple_norm(ref_cutout,stretch='linear',min_cut=-1,max_cut=10)\nplt.imshow(ref_cutout, origin='lower',\n                      norm=norm1,cmap='gray')\nplt.title('SN2022riv')\nplt.gca().tick_params(labelcolor='none',axis='both',color='none')\nplt.show()"
      ]
    },
    {
      "cell_type": "markdown",
      "metadata": {},
      "source": [
        "**Get the PSF model**\n\nspace_phot uses Jay Anderson's gridded HST PSF models. Some filters\nare missing, so for those you'll have to either use a \nneighboring filter or build your own PSF from stars in the field.\n\n"
      ]
    },
    {
      "cell_type": "code",
      "execution_count": null,
      "metadata": {
        "collapsed": false
      },
      "outputs": [],
      "source": [
        "hst_obs = space_phot.observation2(files)\npsfs = space_phot.get_hst_psf(hst_obs,sn_location)\nplt.imshow(psfs[0].data)\nplt.show()"
      ]
    },
    {
      "cell_type": "markdown",
      "metadata": {},
      "source": [
        "**Measure the PSF photometry**\n\n\n"
      ]
    },
    {
      "cell_type": "code",
      "execution_count": null,
      "metadata": {
        "collapsed": false
      },
      "outputs": [],
      "source": [
        "hst_obs.psf_photometry(psfs,sn_location,bounds={'flux':[-3000,100],\n                        'centroid':[-.5,.5],\n                        'bkg':[0,10]},\n                        fit_width=5,\n                        fit_bkg=True,\n                        fit_flux='single')\nhst_obs.plot_psf_fit()\nplt.show()\n\nhst_obs.plot_psf_posterior(minweight=.0005)\nplt.show()\n\nprint(hst_obs.psf_result.phot_cal_table)"
      ]
    },
    {
      "cell_type": "markdown",
      "metadata": {},
      "source": [
        "**Flux per exposure**\n\nYou can also fit for a flux in every exposure, instead of a single\nflux across all exposures\n\n"
      ]
    },
    {
      "cell_type": "code",
      "execution_count": null,
      "metadata": {
        "collapsed": false
      },
      "outputs": [],
      "source": [
        "hst_obs.psf_photometry(psfs,sn_location,bounds={'flux':[-3000,100],\n                        'centroid':[-.5,.5],\n                        'bkg':[0,10]},\n                        fit_width=5,\n                        fit_bkg=True,\n                        fit_flux='multi')\nhst_obs.plot_psf_fit()\nplt.show()\n\nhst_obs.plot_psf_posterior(minweight=.0005)\nplt.show()\n\nprint(hst_obs.psf_result.phot_cal_table)"
      ]
    },
    {
      "cell_type": "markdown",
      "metadata": {},
      "source": [
        "## JWST Images\n\n**Download some Data**\n\nFor this example we download JWST cal images from MAST. We just use\n4 of the 8 dithered exposures  for speed here, but in principle\nspace_phot can handle as many as are needed (given time).\n\n"
      ]
    },
    {
      "cell_type": "code",
      "execution_count": null,
      "metadata": {
        "collapsed": false
      },
      "outputs": [],
      "source": [
        "obs_table = Observations.query_criteria(obs_id='jw02767-o002_t001_nircam_clear-f150w')\ndata_products_by_obs = Observations.get_product_list(obs_table)\ndata_products_by_obs = data_products_by_obs[data_products_by_obs['calib_level']==2]\ndata_products_by_obs = data_products_by_obs[data_products_by_obs['productSubGroupDescription']=='CAL']\n\n# Just take the nrcb3 cals (where the SN is located)\nto_remove = []\nfor i in range(len(data_products_by_obs)):\n    if not data_products_by_obs[i]['obs_id'].endswith('nrcb3'):\n        to_remove.append(i)\ndata_products_by_obs.remove_rows(to_remove)\nObservations.download_products(data_products_by_obs[:4],extension='fits')"
      ]
    },
    {
      "cell_type": "markdown",
      "metadata": {},
      "source": [
        "**Examine the first Image**\n\n\n"
      ]
    },
    {
      "cell_type": "code",
      "execution_count": null,
      "metadata": {
        "collapsed": false
      },
      "outputs": [],
      "source": [
        "files = glob.glob('mastDownload/JWST/*/*cal.fits')\nref_image = files[0]\nref_fits = fits.open(ref_image)\nref_data = fits.open(ref_image)['SCI',1].data\nnorm1 = simple_norm(ref_data,stretch='linear',min_cut=-1,max_cut=10)\n\nplt.imshow(ref_data, origin='lower',\n                      norm=norm1,cmap='gray')\nplt.gca().tick_params(labelcolor='none',axis='both',color='none')\nplt.show()"
      ]
    },
    {
      "cell_type": "markdown",
      "metadata": {},
      "source": [
        "**Zoom in to see the Supernova**\n\n\n"
      ]
    },
    {
      "cell_type": "code",
      "execution_count": null,
      "metadata": {
        "collapsed": false
      },
      "outputs": [],
      "source": [
        "sn_location = SkyCoord('21:29:40.2103','+0:05:24.158',unit=(u.hourangle,u.deg))\nref_y,ref_x = skycoord_to_pixel(sn_location,wcs.WCS(ref_fits['SCI',1],ref_fits))\nref_cutout = extract_array(ref_data,(11,11),(ref_x,ref_y))\nnorm1 = simple_norm(ref_cutout,stretch='linear',min_cut=-1,max_cut=10)\nplt.imshow(ref_cutout, origin='lower',\n                      norm=norm1,cmap='gray')\nplt.title('SN2022riv')\nplt.gca().tick_params(labelcolor='none',axis='both',color='none')\nplt.show()"
      ]
    },
    {
      "cell_type": "markdown",
      "metadata": {},
      "source": [
        "**Get the PSF model**\n\nspace_phot uses WebbPSF models for JWST. This can be pretty slow, \nso you don't want to run this every time. Either create your\nown repository of these and pass each one when needed directly to\nthe psf_photometry function, or else at least just do this once,\nsave the ouptut, and then read it in and proceed to photometry\nfor testing purposes.\n\n"
      ]
    },
    {
      "cell_type": "code",
      "execution_count": null,
      "metadata": {
        "collapsed": false
      },
      "outputs": [],
      "source": [
        "jwst_obs = space_phot.observation2(files)\npsfs = space_phot.get_jwst_psf(jwst_obs,sn_location,num_psfs=4)\nplt.imshow(psfs[0].data)\nplt.show()"
      ]
    },
    {
      "cell_type": "markdown",
      "metadata": {},
      "source": [
        "**Measure the PSF photometry**\n\n\n"
      ]
    },
    {
      "cell_type": "code",
      "execution_count": null,
      "metadata": {
        "collapsed": false
      },
      "outputs": [],
      "source": [
        "jwst_obs.psf_photometry(psfs,sn_location,bounds={'flux':[-1000,1000],\n                        'centroid':[-2,2],\n                        'bkg':[0,50]},\n                        fit_width=5,\n                        fit_bkg=True,\n                        fit_flux='single')\njwst_obs.plot_psf_fit()\nplt.show()\n\njwst_obs.plot_psf_posterior(minweight=.0005)\nplt.show()\n\nprint(jwst_obs.psf_result.phot_cal_table)"
      ]
    },
    {
      "cell_type": "markdown",
      "metadata": {},
      "source": [
        "## Level 3 PSF\n\nWhile it's generally recommended to perform PSF photometry on data\nwith level 2 processing (i.e., before drizzling), sometimes low\nS/N means it's desirable to perform PSF photometry on level 3 data.\nWhile (usually) not quite as accurate, here is a function to do\nthis. \n\n**Download some Data**\n\nFor this example we download JWST cal images from MAST. We just use\n4 of the 8 dithered exposures  for speed here, but in principle\nspace_phot can handle as many as are needed (given time).\n\n"
      ]
    },
    {
      "cell_type": "code",
      "execution_count": null,
      "metadata": {
        "collapsed": false
      },
      "outputs": [],
      "source": [
        "obs_table = Observations.query_criteria(obs_id='jw02767-o002_t001_nircam_clear-f150w')\ndata_products_by_obs = Observations.get_product_list(obs_table)\ndata_products_by_obs = data_products_by_obs[data_products_by_obs['calib_level']==3]\ndata_products_by_obs = data_products_by_obs[data_products_by_obs['productSubGroupDescription']=='I2D']\nObservations.download_products(data_products_by_obs[0],extension='fits')"
      ]
    },
    {
      "cell_type": "markdown",
      "metadata": {},
      "source": [
        "**Examine the Image**\n\n\n"
      ]
    },
    {
      "cell_type": "code",
      "execution_count": null,
      "metadata": {
        "collapsed": false
      },
      "outputs": [],
      "source": [
        "files = glob.glob('mastDownload/JWST/*/*i2d.fits')\nref_image = files[0]\nref_fits = fits.open(ref_image)\nref_data = fits.open(ref_image)['SCI',1].data\nnorm1 = simple_norm(ref_data,stretch='linear',min_cut=-1,max_cut=10)\n\nplt.imshow(ref_data, origin='lower',\n                      norm=norm1,cmap='gray')\nplt.gca().tick_params(labelcolor='none',axis='both',color='none')\nplt.show()"
      ]
    },
    {
      "cell_type": "markdown",
      "metadata": {},
      "source": [
        "**Zoom in to see the Supernova**\n\n\n"
      ]
    },
    {
      "cell_type": "code",
      "execution_count": null,
      "metadata": {
        "collapsed": false
      },
      "outputs": [],
      "source": [
        "sn_location = SkyCoord('21:29:40.2103','+0:05:24.158',unit=(u.hourangle,u.deg))\nref_y,ref_x = skycoord_to_pixel(sn_location,wcs.WCS(ref_fits['SCI',1],ref_fits))\nref_cutout = extract_array(ref_data,(11,11),(ref_x,ref_y))\nnorm1 = simple_norm(ref_cutout,stretch='linear',min_cut=-1,max_cut=10)\nplt.imshow(ref_cutout, origin='lower',\n                      norm=norm1,cmap='gray')\nplt.title('SN2022riv (level 3)')\nplt.gca().tick_params(labelcolor='none',axis='both',color='none')\nplt.show()"
      ]
    },
    {
      "cell_type": "markdown",
      "metadata": {},
      "source": [
        "**Get the PSF model**\n\n(note the use of \"3\" instead of \"2\" everywhere). And note that it\nis the level 2 observation, not 3, that is passed to the psf\nfunction. That is so the PSF model can be drizzled using the same\npattern used to drizzle the data. You can do the same with HST\nby just replacing \"jwst\" with \"hst\". \n\n"
      ]
    },
    {
      "cell_type": "code",
      "execution_count": null,
      "metadata": {
        "collapsed": false
      },
      "outputs": [],
      "source": [
        "jwst3_obs = space_phot.observation3(files[0])\npsf3 = space_phot.get_jwst3_psf(jwst_obs,sn_location,num_psfs=4)\nplt.imshow(psf3.data)\nplt.show()"
      ]
    },
    {
      "cell_type": "markdown",
      "metadata": {},
      "source": [
        "**Measure the PSF photometry**\n\n\n"
      ]
    },
    {
      "cell_type": "code",
      "execution_count": null,
      "metadata": {
        "collapsed": false
      },
      "outputs": [],
      "source": [
        "jwst3_obs.psf_photometry(psf3,sn_location,bounds={'flux':[-1000,1000],\n                        'centroid':[-2,2],\n                        'bkg':[0,50]},\n                        fit_width=5,\n                        fit_bkg=True,\n                        fit_flux=True)\njwst3_obs.plot_psf_fit()\nplt.show()\n\njwst3_obs.plot_psf_posterior(minweight=.0005)\nplt.show()"
      ]
    }
  ],
  "metadata": {
    "kernelspec": {
      "display_name": "Python 3",
      "language": "python",
      "name": "python3"
    },
    "language_info": {
      "codemirror_mode": {
        "name": "ipython",
        "version": 3
      },
      "file_extension": ".py",
      "mimetype": "text/x-python",
      "name": "python",
      "nbconvert_exporter": "python",
      "pygments_lexer": "ipython3",
      "version": "3.10.4"
    }
  },
  "nbformat": 4,
  "nbformat_minor": 0
}